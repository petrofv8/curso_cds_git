{
 "cells": [
  {
   "cell_type": "code",
   "execution_count": null,
   "metadata": {},
   "outputs": [],
   "source": [
    "<<<<<<< local\n",
    "print ( 'celula 1 ')\n",
    "=======\n",
    "print('dev - celula 1 ')\n",
    ">>>>>>> remote"
   ]
  },
  {
   "cell_type": "code",
   "execution_count": null,
   "metadata": {},
   "outputs": [],
   "source": [
    "<<<<<<< local\n",
    "print ( 'celula 12 ')\n",
    "=======\n",
    "print('dev - celula 2 ')\n",
    ">>>>>>> remote"
   ]
  },
  {
   "cell_type": "code",
   "execution_count": null,
   "metadata": {},
   "outputs": [],
   "source": [
    "<<<<<<< local\n",
    "print ( 'celula 13')\n",
    "=======\n",
    "print('dev - celula 3   ')\n",
    ">>>>>>> remote"
   ]
  },
  {
   "cell_type": "code",
   "execution_count": null,
   "metadata": {},
   "outputs": [],
   "source": [
    "<<<<<<< local\n",
    "print ( 'celula51 ')\n",
    "=======\n",
    "print('dev - celula 4 ')\n",
    ">>>>>>> remote"
   ]
  }
 ],
 "metadata": {
  "kernelspec": {
   "display_name": "Petro",
   "language": "python",
   "name": "python3"
  },
  "nbdime-conflicts": {
   "local_diff": [
    {
     "key": "language_info",
     "op": "add",
     "value": {
      "name": "python"
     }
    }
   ],
   "remote_diff": [
    {
     "key": "language_info",
     "op": "add",
     "value": {
      "codemirror_mode": {
       "name": "ipython",
       "version": 3
      },
      "file_extension": ".py",
      "mimetype": "text/x-python",
      "name": "python",
      "nbconvert_exporter": "python",
      "pygments_lexer": "ipython3",
      "version": "3.9.19"
     }
    }
   ]
  }
 },
 "nbformat": 4,
 "nbformat_minor": 2
}
